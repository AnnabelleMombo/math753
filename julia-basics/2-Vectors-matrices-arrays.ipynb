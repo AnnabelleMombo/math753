{
 "cells": [
  {
   "cell_type": "markdown",
   "metadata": {},
   "source": [
    "# Vectors, matrices, and arrays in Julia\n",
    "\n",
    "A few key ideas:\n",
    "  * Julia vectors and matrices are instances of a more general multidimensional `Array` type.\n",
    "  * A Julia vector is a 1-d `Array`, and a Julia matrix is a 2-d `Array`.\n",
    "  * Vectors and matrices are distinct types in Julia (unlike Matlab)\n",
    "  * There is no distinction between a column vector and a row vector (unlike Matlab).\n",
    "  * `Array`s (and thus vectors and matrices) can hold any type. \n",
    "\n",
    "We'll focus on vectors and matrices of numeric types, with a bit about other element types at the end. \n",
    "\n",
    "\n",
    "## Constructing vectors\n",
    "\n",
    "### from lists\n",
    "\n",
    "Vectors can be constructed by listing their elements between square brackets, separated by commas or semicolons. The type of the elements is determined by promoting to a common numeric type that can hold all the listed elements (defaulting to `Int64` and `Float64` on 64-bit computers). \n",
    "\n",
    "``` \n",
    "x = [2, 3, 4]     # a vector of Int64s\n",
    "\n",
    "x = [2; 3; 4]     # a vector of Int64s (identical to above)\n",
    "\n",
    "x = [2.0; 3; 4]   # a vector of Float64s\n",
    "\n",
    "x = [2; 3f0; 4]   # a vector of Float32s\n",
    "\n",
    "x = [true; false; true; true] # a vector of Bools\n",
    "```\n",
    "\n",
    "Note that separating n elements by *spaces* produces a 1 x n matrix, not an n-vector!\n",
    "\n",
    "```\n",
    "x = [2 3 4]       # a 1 x 3 matrix of Int64s!!\n",
    "```"
   ]
  },
  {
   "cell_type": "markdown",
   "metadata": {},
   "source": [
    "### from initializing functions\n",
    "\n",
    "```\n",
    "x = zeros(3)          # a 3-vector of Float64 zeros\n",
    "\n",
    "x = ones(4)           # a 4-vector of Float64 ones\n",
    "\n",
    "x = randn(7)          # a 7-vector of normally distributed Float64s  \n",
    "\n",
    "x = zeros(Int64, 8)   # an 8-vector of Int64 zeros\n",
    "\n",
    "x = trues(5)          # a 5-vector of Bool trues\n",
    "```"
   ]
  },
  {
   "cell_type": "code",
   "execution_count": 16,
   "metadata": {
    "collapsed": false
   },
   "outputs": [
    {
     "data": {
      "text/plain": [
       "2-element Array{Bool,1}:\n",
       "  true\n",
       " false"
      ]
     },
     "execution_count": 16,
     "metadata": {},
     "output_type": "execute_result"
    }
   ],
   "source": [
    "[true; false]"
   ]
  },
  {
   "cell_type": "code",
   "execution_count": 10,
   "metadata": {
    "collapsed": false
   },
   "outputs": [
    {
     "data": {
      "text/plain": [
       "3-element Array{Int64,1}:\n",
       " 2\n",
       " 3\n",
       " 4"
      ]
     },
     "execution_count": 10,
     "metadata": {},
     "output_type": "execute_result"
    }
   ],
   "source": [
    "x = [2, 3, 4]    # a vector of Int64s"
   ]
  },
  {
   "cell_type": "code",
   "execution_count": 6,
   "metadata": {
    "collapsed": false
   },
   "outputs": [
    {
     "data": {
      "text/plain": [
       "3-element Array{Int64,1}:\n",
       " 2\n",
       " 3\n",
       " 4"
      ]
     },
     "execution_count": 6,
     "metadata": {},
     "output_type": "execute_result"
    }
   ],
   "source": [
    "x = [2; 3; 4]    # vector of Int64s"
   ]
  },
  {
   "cell_type": "code",
   "execution_count": 3,
   "metadata": {
    "collapsed": false
   },
   "outputs": [
    {
     "data": {
      "text/plain": [
       "3-element Array{Float64,1}:\n",
       " 2.0\n",
       " 3.3\n",
       " 4.0"
      ]
     },
     "execution_count": 3,
     "metadata": {},
     "output_type": "execute_result"
    }
   ],
   "source": [
    "x = [2, 3.3, 4]  # a vector of Float64s"
   ]
  },
  {
   "cell_type": "code",
   "execution_count": 14,
   "metadata": {
    "collapsed": false
   },
   "outputs": [
    {
     "data": {
      "text/plain": [
       "3-element Array{Float32,1}:\n",
       "  1.0\n",
       "  0.0\n",
       " -7.0"
      ]
     },
     "execution_count": 14,
     "metadata": {},
     "output_type": "execute_result"
    }
   ],
   "source": [
    "x = [1f0 ; 0 ; -7]  # a vector of Float32s"
   ]
  },
  {
   "cell_type": "markdown",
   "metadata": {},
   "source": [
    "Note that separating by spaces does not produce a vector! It produces a 1 x n matrix instead!"
   ]
  },
  {
   "cell_type": "code",
   "execution_count": 15,
   "metadata": {
    "collapsed": false
   },
   "outputs": [
    {
     "data": {
      "text/plain": [
       "1×3 Array{Int64,2}:\n",
       " 8  0  2"
      ]
     },
     "execution_count": 15,
     "metadata": {},
     "output_type": "execute_result"
    }
   ],
   "source": [
    "x = [8 0 2]"
   ]
  },
  {
   "cell_type": "code",
   "execution_count": null,
   "metadata": {
    "collapsed": true
   },
   "outputs": [],
   "source": []
  }
 ],
 "metadata": {
  "kernelspec": {
   "display_name": "Julia 0.6.0",
   "language": "julia",
   "name": "julia-0.6"
  },
  "language_info": {
   "file_extension": ".jl",
   "mimetype": "application/julia",
   "name": "julia",
   "version": "0.6.0"
  }
 },
 "nbformat": 4,
 "nbformat_minor": 0
}
