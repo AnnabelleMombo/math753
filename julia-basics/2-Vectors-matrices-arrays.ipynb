{
 "cells": [
  {
   "cell_type": "markdown",
   "metadata": {},
   "source": [
    "# Vectors, matrices, and arrays in Julia\n",
    "\n",
    "A few key ideas:\n",
    "  * Julia vectors and matrices are instances of a more general multidimensional `Array` type.\n",
    "  * A Julia vector is a 1-d `Array`, and a Julia matrix is a 2-d `Array`.\n",
    "  * Vectors and matrices are distinct types in Julia (unlike Matlab).\n",
    "  * There is no distinction between a column vector and a row vector (unlike Matlab).\n",
    "  * `Array`s (and thus vectors and matrices) can hold any type. \n",
    "\n",
    "Lastly, use square brackets (not parentheses) to access elements of Julia vectors, matrices. E.g. `A[2,5]` returns $A_{25}$, the value in the 2nd row and 5th column.\n",
    "\n",
    "\n",
    "## Constructing vectors and matrices...\n",
    "\n",
    "### ...from lists\n",
    "\n",
    "Vectors can be constructed by listing their elements between square brackets, separated by commas or semicolons. The type of the elements is determined by promoting to a common numeric type that can hold all the listed elements (defaulting to `Int64` and `Float64` on 64-bit computers). \n",
    "\n",
    "``` \n",
    "x = [2, 3, 4]       # vector of Int64s\n",
    " \n",
    "x = [2; 3; 4]       # vector of Int64s (identical to above)\n",
    "\n",
    "x = [2.0; 3; 4]     # vector of Float64s\n",
    "\n",
    "x = [2; 3f0; 4]     # vector of Float32s\n",
    "```\n",
    "\n",
    "Matrices can be constructed from lists as follows\n",
    "\n",
    "```\n",
    "A = [2 3 4 ; 5 6 7]                 # 2x3 matrix of Int64s\n",
    "\n",
    "A = [1.0 2.0 ; 3.0 -1.0 ; 0.0 7.1]  # 3x2 matrix of Float64s\n",
    "```\n",
    "\n",
    "Note that in Julia, spaces separate elements in rows, and semicolons seperate rows from each other. Thus if you put n elements between square brackets with spaces, you get a 1 x n matrix, not a row vector.\n",
    "\n",
    "```\n",
    "x = [2 3 4]       # a 1 x 3 matrix of Int64s!!\n",
    "```"
   ]
  },
  {
   "cell_type": "markdown",
   "metadata": {},
   "source": [
    "### ...from initializing functions\n",
    "\n",
    "These functions generate vectors and matrices of specified size and filled with ones, zeros, or random elements. The default element type is `Float64`, but you can specify a different type as the first argument. \n",
    "\n",
    "```\n",
    "x = zeros(3)          # vector of Float64 zeros, length 3\n",
    "\n",
    "x = zeros(Int64, 8)   # vector of Int64 zeros, length 8\n",
    "\n",
    "x = ones(4)           # vector of Float64 ones, length 4\n",
    "\n",
    "x = rand(19)          # vector of random Float64s, uniformly distributed on [0,1], length 19\n",
    "\n",
    "x = randn(7)          # vector of random Float64s, normally distributed, length 7  \n",
    "\n",
    "x = zeros(Int32, 8)   # vector of Int32 zeros, length 8\n",
    "\n",
    "A = zeros(4,3)           # 4 x 3 matrix of Float64 zeros\n",
    "\n",
    "A = ones(BigFloat, 3, 7) # 7 x 3 matrix of BigFloat ones\n",
    "\n",
    "A = randn(5, 5)          # 5 x 5 matrix of normal-random Float64s\n",
    "\n",
    "A = diagm(randn(Float32, 5)) # 5 x 5 diagonal matrix with normal-random Float32s\n",
    "```"
   ]
  },
  {
   "cell_type": "markdown",
   "metadata": {},
   "source": [
    "## ...from specified ranges: the colon operator and linspace\n",
    "\n",
    "Julia's colon operator and `linspace` function resemble Matlab's, but instead of producing vectors directly, they produce `Range` objects. These act like the corresponding Matlab vectors, but they're more efficient.  \n",
    "\n",
    "```\n",
    "x = 1:5        # the range of Int64s from 1 to 5\n",
    "\n",
    "x = 1:2:19     # the range of Int64s from 1 to 19 in steps of 2\n",
    "  \n",
    "x = 0:0.1:3    # the range of Float64s from 0 to 3 in steps of 0.1\n",
    "  \n",
    "x = linspace(-1,1, 100) # the range of 100 evenly spaced Float64s between -1 and 1\n",
    "```\n",
    "\n",
    "You can usually ignore the distinction and operate on ranges as if they're explicit vectors, e.g, use `v[1:5]` to access elements 1 through 5 of vector `v`, use `linspace(-1,1,100).^2` to compute $x^2$ for 100 points between -1 and 1, etc. The `collect` function will convert a range to an explicit vector, if you really need one.\n",
    "\n",
    "```\n",
    "x = collect(4:20)  # a vector of Int64s from 4 to 20\n",
    "```\n"
   ]
  },
  {
   "cell_type": "markdown",
   "metadata": {},
   "source": [
    "## ...from list comprehensions\n",
    "\n",
    "This is better illustrated than explained..."
   ]
  },
  {
   "cell_type": "code",
   "execution_count": 2,
   "metadata": {},
   "outputs": [
    {
     "data": {
      "text/plain": [
       "11-element Array{Float64,1}:\n",
       " 1.0 \n",
       " 0.64\n",
       " 0.36\n",
       " 0.16\n",
       " 0.04\n",
       " 0.0 \n",
       " 0.04\n",
       " 0.16\n",
       " 0.36\n",
       " 0.64\n",
       " 1.0 "
      ]
     },
     "execution_count": 2,
     "metadata": {},
     "output_type": "execute_result"
    }
   ],
   "source": [
    "y = [x^2 for x in linspace(-1,1,11)]   # construct vector y = x^2 for 11 uniformly space points in [-1,1]"
   ]
  },
  {
   "cell_type": "code",
   "execution_count": 7,
   "metadata": {},
   "outputs": [
    {
     "data": {
      "text/plain": [
       "9×9 Array{Int64,2}:\n",
       " 11  12  13  14  15  16  17  18  19\n",
       " 21  22  23  24  25  26  27  28  29\n",
       " 31  32  33  34  35  36  37  38  39\n",
       " 41  42  43  44  45  46  47  48  49\n",
       " 51  52  53  54  55  56  57  58  59\n",
       " 61  62  63  64  65  66  67  68  69\n",
       " 71  72  73  74  75  76  77  78  79\n",
       " 81  82  83  84  85  86  87  88  89\n",
       " 91  92  93  94  95  96  97  98  99"
      ]
     },
     "execution_count": 7,
     "metadata": {},
     "output_type": "execute_result"
    }
   ],
   "source": [
    "A = [10*i + j for i in 1:9, j in 1:9]  # construct 9x9 matrix whose entries look like their i,j indices"
   ]
  },
  {
   "cell_type": "markdown",
   "metadata": {},
   "source": [
    "## Accessing elements of vectors and matrices\n",
    "\n",
    "Julia uses square brackets for element access (unlike Matlab which uses parentheses). Portions of vectors and matrices can be extracted by specifying ranges of indices. For vector `y` and matrix `A`,\n",
    "\n",
    "```\n",
    "\n",
    "y[3]         # the 3rd element of y\n",
    "\n",
    "y[3:5]       # the 3rd to 5th elements of y\n",
    "\n",
    "y[3:end]     # the 3rd to last elements of y\n",
    "\n",
    "y[1:2:end]   # the odd-indexed elements of y\n",
    "\n",
    "\n",
    "A[3,4]       # the 3,4 elemement of A\n",
    "\n",
    "A[:,4]       # the 4th column of A\n",
    "\n",
    "A[3,:]       # the 3rd row of A\n",
    "\n",
    "A[3:5, 7]    # the 3rd to 5th elements in the 7th column of A\n",
    "\n",
    "A[2:4, 3:6]  # the 3 x 4 submatrix of A starting at element 2,3\n",
    "```"
   ]
  },
  {
   "cell_type": "markdown",
   "metadata": {},
   "source": [
    "## Problems: constructing and accessing elements of vectors, matrices, and ranges"
   ]
  },
  {
   "cell_type": "markdown",
   "metadata": {},
   "source": [
    "**Problem 1:** Construct a vector $ v = \\left(3, 7, 5\\right)$ with `Float64` elements. What is the type of $v$?"
   ]
  },
  {
   "cell_type": "code",
   "execution_count": null,
   "metadata": {
    "collapsed": true
   },
   "outputs": [],
   "source": []
  },
  {
   "cell_type": "markdown",
   "metadata": {},
   "source": [
    "**Problem 2:** Construct a 5 x 4 matrix of random `Int16`s."
   ]
  },
  {
   "cell_type": "code",
   "execution_count": null,
   "metadata": {
    "collapsed": true
   },
   "outputs": [],
   "source": []
  },
  {
   "cell_type": "markdown",
   "metadata": {},
   "source": [
    "**Problem 3:** Construct the following matrix. What is its type?\n",
    "\n",
    "\\begin{equation*}\n",
    "A = \\left(\\begin{array}{rrr} \n",
    "-2 & 1 & 0 \\\\\n",
    "1 & -2 & 1 \\\\\n",
    "0 & 1 & -2\n",
    "\\end{array}\\right)\n",
    "\\end{equation*}"
   ]
  },
  {
   "cell_type": "code",
   "execution_count": null,
   "metadata": {
    "collapsed": true
   },
   "outputs": [],
   "source": []
  },
  {
   "cell_type": "markdown",
   "metadata": {},
   "source": [
    "**Problem 4:** Construct the same matrix as problem 3, but with `Float64` elements. What is the type?"
   ]
  },
  {
   "cell_type": "code",
   "execution_count": null,
   "metadata": {
    "collapsed": true
   },
   "outputs": [],
   "source": []
  },
  {
   "cell_type": "markdown",
   "metadata": {},
   "source": [
    "**Problem 5:** Construct the same matrix as problem 3, but with `BigFloat` elements. What is the type?"
   ]
  },
  {
   "cell_type": "code",
   "execution_count": null,
   "metadata": {
    "collapsed": true
   },
   "outputs": [],
   "source": []
  },
  {
   "cell_type": "markdown",
   "metadata": {},
   "source": [
    "**Problem 6:** Construct the following matrix, where $i = \\sqrt{-1}$, using 64-bit floating-point numbers. What is its type?\n",
    "\n",
    "\\begin{equation*}\n",
    "A = \\left(\\begin{array}{rr} \n",
    "1 & 0 \\\\\n",
    "0 & i \n",
    "\\end{array}\\right)\n",
    "\\end{equation*}"
   ]
  },
  {
   "cell_type": "code",
   "execution_count": null,
   "metadata": {
    "collapsed": true
   },
   "outputs": [],
   "source": []
  },
  {
   "cell_type": "markdown",
   "metadata": {},
   "source": [
    "**Problem 7:** Construct a 4 x 4 random matrix with normally distributed `Float32` elements."
   ]
  },
  {
   "cell_type": "code",
   "execution_count": null,
   "metadata": {
    "collapsed": true
   },
   "outputs": [],
   "source": []
  },
  {
   "cell_type": "markdown",
   "metadata": {},
   "source": [
    "**Problem 8:** Construct a 5 x 5 diagonal matrix with uniformly-distributed `Float64`s on its diagonal."
   ]
  },
  {
   "cell_type": "code",
   "execution_count": null,
   "metadata": {
    "collapsed": true
   },
   "outputs": [],
   "source": []
  },
  {
   "cell_type": "markdown",
   "metadata": {},
   "source": [
    "**Problem 9:** Construct a 5 x 5 diagonal matrix with Float64s ranging from 0 to 4 on the diagonal. "
   ]
  },
  {
   "cell_type": "code",
   "execution_count": null,
   "metadata": {
    "collapsed": true
   },
   "outputs": [],
   "source": []
  },
  {
   "cell_type": "markdown",
   "metadata": {},
   "source": [
    "**Problem 10:** Construct the range of integers between 8 and 12."
   ]
  },
  {
   "cell_type": "code",
   "execution_count": null,
   "metadata": {
    "collapsed": true
   },
   "outputs": [],
   "source": []
  },
  {
   "cell_type": "markdown",
   "metadata": {},
   "source": [
    "**Problem 11:** Construct the range of numbers between 0 and 10 in steps of 0.2."
   ]
  },
  {
   "cell_type": "code",
   "execution_count": null,
   "metadata": {
    "collapsed": true
   },
   "outputs": [],
   "source": []
  },
  {
   "cell_type": "markdown",
   "metadata": {},
   "source": [
    "**Problem 12:** Construct the range of twelve uniformly-space numbers between 6 and 17. "
   ]
  },
  {
   "cell_type": "code",
   "execution_count": null,
   "metadata": {
    "collapsed": true
   },
   "outputs": [],
   "source": []
  },
  {
   "cell_type": "markdown",
   "metadata": {},
   "source": [
    "**Problem 13:** Construct an explicit vector of twelve uniformly-space numbers between 6 and 17."
   ]
  },
  {
   "cell_type": "code",
   "execution_count": null,
   "metadata": {
    "collapsed": true
   },
   "outputs": [],
   "source": []
  },
  {
   "cell_type": "markdown",
   "metadata": {},
   "source": [
    "**Problem 14:** Construct an explicit vector of the multiples of 3 between 0 and 21. "
   ]
  },
  {
   "cell_type": "code",
   "execution_count": null,
   "metadata": {
    "collapsed": true
   },
   "outputs": [],
   "source": []
  },
  {
   "cell_type": "markdown",
   "metadata": {},
   "source": [
    "**Problem 15:** Using list comprehension, construct a vector of the squares of the integers from 1 to 10. "
   ]
  },
  {
   "cell_type": "code",
   "execution_count": null,
   "metadata": {
    "collapsed": true
   },
   "outputs": [],
   "source": []
  },
  {
   "cell_type": "markdown",
   "metadata": {},
   "source": [
    "**Problem 16:** Using list comprehension, construct a 5x5 matrix of `Float64`s whose $i,j$th element is $i^{\\,j}$."
   ]
  },
  {
   "cell_type": "code",
   "execution_count": null,
   "metadata": {
    "collapsed": true
   },
   "outputs": [],
   "source": []
  },
  {
   "cell_type": "markdown",
   "metadata": {},
   "source": [
    "**Problem 17:** Use `rand(Float32, 3,4,5)` to construct a 3 x 4 x 5 array of random `Float32`s."
   ]
  },
  {
   "cell_type": "code",
   "execution_count": null,
   "metadata": {
    "collapsed": true
   },
   "outputs": [],
   "source": []
  },
  {
   "cell_type": "markdown",
   "metadata": {},
   "source": [
    "**Problem 18:** Construct a 9 x 9 matrix $A$ whose $i,j$th element is a Float64 with value $10i+j$. Then set $\\Omega$ to $A_{78}$ (i.e. assign the value of $A_{78}$ to the variable $\\Omega$)."
   ]
  },
  {
   "cell_type": "code",
   "execution_count": null,
   "metadata": {
    "collapsed": true
   },
   "outputs": [],
   "source": []
  },
  {
   "cell_type": "markdown",
   "metadata": {},
   "source": [
    "**Problem 19:** Assign the 3rd row of $A$ to the variable $\\Psi$"
   ]
  },
  {
   "cell_type": "code",
   "execution_count": null,
   "metadata": {
    "collapsed": true
   },
   "outputs": [],
   "source": []
  },
  {
   "cell_type": "markdown",
   "metadata": {},
   "source": [
    "**Problem 20:** Assign the 4th column of $A$ t the variable $\\eta$ (Greek eta)."
   ]
  },
  {
   "cell_type": "code",
   "execution_count": null,
   "metadata": {
    "collapsed": true
   },
   "outputs": [],
   "source": []
  },
  {
   "cell_type": "markdown",
   "metadata": {},
   "source": [
    "**Problem 21:** Assign the 3 x 3 principle submatrix of $A$ to the variable $\\Phi$."
   ]
  },
  {
   "cell_type": "code",
   "execution_count": null,
   "metadata": {
    "collapsed": true
   },
   "outputs": [],
   "source": []
  }
 ],
 "metadata": {
  "kernelspec": {
   "display_name": "Julia 0.6.0",
   "language": "julia",
   "name": "julia-0.6"
  },
  "language_info": {
   "file_extension": ".jl",
   "mimetype": "application/julia",
   "name": "julia",
   "version": "0.6.0"
  }
 },
 "nbformat": 4,
 "nbformat_minor": 1
}
